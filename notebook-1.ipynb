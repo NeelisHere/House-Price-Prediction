{
 "cells": [
  {
   "cell_type": "code",
   "execution_count": 1,
   "id": "ea646317",
   "metadata": {
    "_cell_guid": "b1076dfc-b9ad-4769-8c92-a6c4dae69d19",
    "_uuid": "8f2839f25d086af736a60e9eeb907d3b93b6e0e5",
    "execution": {
     "iopub.execute_input": "2022-02-27T15:27:30.076664Z",
     "iopub.status.busy": "2022-02-27T15:27:30.075172Z",
     "iopub.status.idle": "2022-02-27T15:27:35.921227Z",
     "shell.execute_reply": "2022-02-27T15:27:35.921635Z",
     "shell.execute_reply.started": "2022-02-27T15:25:55.820577Z"
    },
    "papermill": {
     "duration": 5.861174,
     "end_time": "2022-02-27T15:27:35.921990",
     "exception": false,
     "start_time": "2022-02-27T15:27:30.060816",
     "status": "completed"
    },
    "tags": []
   },
   "outputs": [],
   "source": [
    "# import numpy as np\n",
    "# import pandas as pd\n",
    "import cupy as np\n",
    "import cudf as pd\n",
    "path='../input/house-prices-advanced-regression-techniques'\n",
    "df_train=pd.read_csv(path+'/train.csv')\n",
    "df_test=pd.read_csv(path+'/test.csv')"
   ]
  },
  {
   "cell_type": "code",
   "execution_count": 2,
   "id": "70201094",
   "metadata": {
    "execution": {
     "iopub.execute_input": "2022-02-27T15:27:35.948177Z",
     "iopub.status.busy": "2022-02-27T15:27:35.945454Z",
     "iopub.status.idle": "2022-02-27T15:27:35.951953Z",
     "shell.execute_reply": "2022-02-27T15:27:35.951531Z",
     "shell.execute_reply.started": "2022-02-27T15:26:01.311446Z"
    },
    "papermill": {
     "duration": 0.019263,
     "end_time": "2022-02-27T15:27:35.952064",
     "exception": false,
     "start_time": "2022-02-27T15:27:35.932801",
     "status": "completed"
    },
    "tags": []
   },
   "outputs": [
    {
     "name": "stdout",
     "output_type": "stream",
     "text": [
      "(1460, 81) (1459, 80)\n"
     ]
    }
   ],
   "source": [
    "print(df_train.shape,df_test.shape)"
   ]
  },
  {
   "cell_type": "code",
   "execution_count": 3,
   "id": "02199c6d",
   "metadata": {
    "execution": {
     "iopub.execute_input": "2022-02-27T15:27:35.988556Z",
     "iopub.status.busy": "2022-02-27T15:27:35.987709Z",
     "iopub.status.idle": "2022-02-27T15:27:36.214282Z",
     "shell.execute_reply": "2022-02-27T15:27:36.214717Z",
     "shell.execute_reply.started": "2022-02-27T15:26:01.319437Z"
    },
    "papermill": {
     "duration": 0.25232,
     "end_time": "2022-02-27T15:27:36.214890",
     "exception": false,
     "start_time": "2022-02-27T15:27:35.962570",
     "status": "completed"
    },
    "tags": []
   },
   "outputs": [
    {
     "data": {
      "text/html": [
       "<div>\n",
       "<style scoped>\n",
       "    .dataframe tbody tr th:only-of-type {\n",
       "        vertical-align: middle;\n",
       "    }\n",
       "\n",
       "    .dataframe tbody tr th {\n",
       "        vertical-align: top;\n",
       "    }\n",
       "\n",
       "    .dataframe thead th {\n",
       "        text-align: right;\n",
       "    }\n",
       "</style>\n",
       "<table border=\"1\" class=\"dataframe\">\n",
       "  <thead>\n",
       "    <tr style=\"text-align: right;\">\n",
       "      <th></th>\n",
       "      <th>Id</th>\n",
       "      <th>MSSubClass</th>\n",
       "      <th>MSZoning</th>\n",
       "      <th>LotFrontage</th>\n",
       "      <th>LotArea</th>\n",
       "      <th>Street</th>\n",
       "      <th>Alley</th>\n",
       "      <th>LotShape</th>\n",
       "      <th>LandContour</th>\n",
       "      <th>Utilities</th>\n",
       "      <th>...</th>\n",
       "      <th>PoolArea</th>\n",
       "      <th>PoolQC</th>\n",
       "      <th>Fence</th>\n",
       "      <th>MiscFeature</th>\n",
       "      <th>MiscVal</th>\n",
       "      <th>MoSold</th>\n",
       "      <th>YrSold</th>\n",
       "      <th>SaleType</th>\n",
       "      <th>SaleCondition</th>\n",
       "      <th>SalePrice</th>\n",
       "    </tr>\n",
       "  </thead>\n",
       "  <tbody>\n",
       "    <tr>\n",
       "      <th>0</th>\n",
       "      <td>1</td>\n",
       "      <td>60</td>\n",
       "      <td>RL</td>\n",
       "      <td>65.0</td>\n",
       "      <td>8450</td>\n",
       "      <td>Pave</td>\n",
       "      <td>&lt;NA&gt;</td>\n",
       "      <td>Reg</td>\n",
       "      <td>Lvl</td>\n",
       "      <td>AllPub</td>\n",
       "      <td>...</td>\n",
       "      <td>0</td>\n",
       "      <td>&lt;NA&gt;</td>\n",
       "      <td>&lt;NA&gt;</td>\n",
       "      <td>&lt;NA&gt;</td>\n",
       "      <td>0</td>\n",
       "      <td>2</td>\n",
       "      <td>2008</td>\n",
       "      <td>WD</td>\n",
       "      <td>Normal</td>\n",
       "      <td>208500</td>\n",
       "    </tr>\n",
       "    <tr>\n",
       "      <th>1</th>\n",
       "      <td>2</td>\n",
       "      <td>20</td>\n",
       "      <td>RL</td>\n",
       "      <td>80.0</td>\n",
       "      <td>9600</td>\n",
       "      <td>Pave</td>\n",
       "      <td>&lt;NA&gt;</td>\n",
       "      <td>Reg</td>\n",
       "      <td>Lvl</td>\n",
       "      <td>AllPub</td>\n",
       "      <td>...</td>\n",
       "      <td>0</td>\n",
       "      <td>&lt;NA&gt;</td>\n",
       "      <td>&lt;NA&gt;</td>\n",
       "      <td>&lt;NA&gt;</td>\n",
       "      <td>0</td>\n",
       "      <td>5</td>\n",
       "      <td>2007</td>\n",
       "      <td>WD</td>\n",
       "      <td>Normal</td>\n",
       "      <td>181500</td>\n",
       "    </tr>\n",
       "    <tr>\n",
       "      <th>2</th>\n",
       "      <td>3</td>\n",
       "      <td>60</td>\n",
       "      <td>RL</td>\n",
       "      <td>68.0</td>\n",
       "      <td>11250</td>\n",
       "      <td>Pave</td>\n",
       "      <td>&lt;NA&gt;</td>\n",
       "      <td>IR1</td>\n",
       "      <td>Lvl</td>\n",
       "      <td>AllPub</td>\n",
       "      <td>...</td>\n",
       "      <td>0</td>\n",
       "      <td>&lt;NA&gt;</td>\n",
       "      <td>&lt;NA&gt;</td>\n",
       "      <td>&lt;NA&gt;</td>\n",
       "      <td>0</td>\n",
       "      <td>9</td>\n",
       "      <td>2008</td>\n",
       "      <td>WD</td>\n",
       "      <td>Normal</td>\n",
       "      <td>223500</td>\n",
       "    </tr>\n",
       "    <tr>\n",
       "      <th>3</th>\n",
       "      <td>4</td>\n",
       "      <td>70</td>\n",
       "      <td>RL</td>\n",
       "      <td>60.0</td>\n",
       "      <td>9550</td>\n",
       "      <td>Pave</td>\n",
       "      <td>&lt;NA&gt;</td>\n",
       "      <td>IR1</td>\n",
       "      <td>Lvl</td>\n",
       "      <td>AllPub</td>\n",
       "      <td>...</td>\n",
       "      <td>0</td>\n",
       "      <td>&lt;NA&gt;</td>\n",
       "      <td>&lt;NA&gt;</td>\n",
       "      <td>&lt;NA&gt;</td>\n",
       "      <td>0</td>\n",
       "      <td>2</td>\n",
       "      <td>2006</td>\n",
       "      <td>WD</td>\n",
       "      <td>Abnorml</td>\n",
       "      <td>140000</td>\n",
       "    </tr>\n",
       "    <tr>\n",
       "      <th>4</th>\n",
       "      <td>5</td>\n",
       "      <td>60</td>\n",
       "      <td>RL</td>\n",
       "      <td>84.0</td>\n",
       "      <td>14260</td>\n",
       "      <td>Pave</td>\n",
       "      <td>&lt;NA&gt;</td>\n",
       "      <td>IR1</td>\n",
       "      <td>Lvl</td>\n",
       "      <td>AllPub</td>\n",
       "      <td>...</td>\n",
       "      <td>0</td>\n",
       "      <td>&lt;NA&gt;</td>\n",
       "      <td>&lt;NA&gt;</td>\n",
       "      <td>&lt;NA&gt;</td>\n",
       "      <td>0</td>\n",
       "      <td>12</td>\n",
       "      <td>2008</td>\n",
       "      <td>WD</td>\n",
       "      <td>Normal</td>\n",
       "      <td>250000</td>\n",
       "    </tr>\n",
       "  </tbody>\n",
       "</table>\n",
       "<p>5 rows × 81 columns</p>\n",
       "</div>"
      ],
      "text/plain": [
       "   Id  MSSubClass MSZoning  LotFrontage  LotArea Street Alley LotShape  \\\n",
       "0   1          60       RL         65.0     8450   Pave  <NA>      Reg   \n",
       "1   2          20       RL         80.0     9600   Pave  <NA>      Reg   \n",
       "2   3          60       RL         68.0    11250   Pave  <NA>      IR1   \n",
       "3   4          70       RL         60.0     9550   Pave  <NA>      IR1   \n",
       "4   5          60       RL         84.0    14260   Pave  <NA>      IR1   \n",
       "\n",
       "  LandContour Utilities  ... PoolArea  PoolQC Fence MiscFeature MiscVal  \\\n",
       "0         Lvl    AllPub  ...        0    <NA>  <NA>        <NA>       0   \n",
       "1         Lvl    AllPub  ...        0    <NA>  <NA>        <NA>       0   \n",
       "2         Lvl    AllPub  ...        0    <NA>  <NA>        <NA>       0   \n",
       "3         Lvl    AllPub  ...        0    <NA>  <NA>        <NA>       0   \n",
       "4         Lvl    AllPub  ...        0    <NA>  <NA>        <NA>       0   \n",
       "\n",
       "   MoSold  YrSold  SaleType SaleCondition SalePrice  \n",
       "0       2    2008        WD        Normal    208500  \n",
       "1       5    2007        WD        Normal    181500  \n",
       "2       9    2008        WD        Normal    223500  \n",
       "3       2    2006        WD       Abnorml    140000  \n",
       "4      12    2008        WD        Normal    250000  \n",
       "\n",
       "[5 rows x 81 columns]"
      ]
     },
     "execution_count": 3,
     "metadata": {},
     "output_type": "execute_result"
    }
   ],
   "source": [
    "df_train.head()"
   ]
  },
  {
   "cell_type": "code",
   "execution_count": 4,
   "id": "44be0064",
   "metadata": {
    "execution": {
     "iopub.execute_input": "2022-02-27T15:27:36.241582Z",
     "iopub.status.busy": "2022-02-27T15:27:36.241085Z",
     "iopub.status.idle": "2022-02-27T15:27:36.247328Z",
     "shell.execute_reply": "2022-02-27T15:27:36.247723Z",
     "shell.execute_reply.started": "2022-02-27T15:26:01.600367Z"
    },
    "papermill": {
     "duration": 0.022042,
     "end_time": "2022-02-27T15:27:36.247923",
     "exception": false,
     "start_time": "2022-02-27T15:27:36.225881",
     "status": "completed"
    },
    "tags": []
   },
   "outputs": [],
   "source": [
    "df_train['MasVnrArea'] = df_train['MasVnrArea'].fillna(0.0)\n",
    "df_train['GarageYrBlt'] = df_train['GarageYrBlt'].fillna(0.0)"
   ]
  },
  {
   "cell_type": "code",
   "execution_count": 5,
   "id": "dc64aeed",
   "metadata": {
    "execution": {
     "iopub.execute_input": "2022-02-27T15:27:36.275602Z",
     "iopub.status.busy": "2022-02-27T15:27:36.274958Z",
     "iopub.status.idle": "2022-02-27T15:27:37.045648Z",
     "shell.execute_reply": "2022-02-27T15:27:37.046126Z",
     "shell.execute_reply.started": "2022-02-27T15:26:01.611015Z"
    },
    "papermill": {
     "duration": 0.787367,
     "end_time": "2022-02-27T15:27:37.046286",
     "exception": false,
     "start_time": "2022-02-27T15:27:36.258919",
     "status": "completed"
    },
    "tags": []
   },
   "outputs": [],
   "source": [
    "x = df_train[['SalePrice', 'OverallQual', 'GrLivArea', 'GarageCars', 'TotalBsmtSF', \n",
    "'YearBuilt', 'FullBath', 'OpenPorchSF', 'WoodDeckSF', '2ndFlrSF', 'YearRemodAdd', \n",
    "              'MasVnrArea', 'LotArea']]\n",
    "#'LotFrontage'-dropped\n",
    "y=df_train['SalePrice']\n",
    "y=np.array(y)\n",
    "y=y.reshape(-1,1)\n",
    "y=y.astype('float64')"
   ]
  },
  {
   "cell_type": "code",
   "execution_count": 6,
   "id": "bc46e568",
   "metadata": {
    "execution": {
     "iopub.execute_input": "2022-02-27T15:27:37.072769Z",
     "iopub.status.busy": "2022-02-27T15:27:37.072174Z",
     "iopub.status.idle": "2022-02-27T15:27:37.080941Z",
     "shell.execute_reply": "2022-02-27T15:27:37.080473Z",
     "shell.execute_reply.started": "2022-02-27T15:26:02.383832Z"
    },
    "papermill": {
     "duration": 0.023397,
     "end_time": "2022-02-27T15:27:37.081051",
     "exception": false,
     "start_time": "2022-02-27T15:27:37.057654",
     "status": "completed"
    },
    "tags": []
   },
   "outputs": [],
   "source": [
    "from sklearn.preprocessing import StandardScaler\n",
    "scaler=StandardScaler()\n",
    "x=scaler.fit_transform(x.as_matrix())"
   ]
  },
  {
   "cell_type": "code",
   "execution_count": 7,
   "id": "60b208ce",
   "metadata": {
    "execution": {
     "iopub.execute_input": "2022-02-27T15:27:37.106798Z",
     "iopub.status.busy": "2022-02-27T15:27:37.106026Z",
     "iopub.status.idle": "2022-02-27T15:27:37.109049Z",
     "shell.execute_reply": "2022-02-27T15:27:37.109606Z",
     "shell.execute_reply.started": "2022-02-27T15:26:02.397686Z"
    },
    "papermill": {
     "duration": 0.018003,
     "end_time": "2022-02-27T15:27:37.109773",
     "exception": false,
     "start_time": "2022-02-27T15:27:37.091770",
     "status": "completed"
    },
    "tags": []
   },
   "outputs": [
    {
     "name": "stdout",
     "output_type": "stream",
     "text": [
      "float64 float64\n"
     ]
    }
   ],
   "source": [
    "# y.astype('float64')\n",
    "print(x.dtype,y.dtype)"
   ]
  },
  {
   "cell_type": "code",
   "execution_count": 8,
   "id": "1d329a0b",
   "metadata": {
    "execution": {
     "iopub.execute_input": "2022-02-27T15:27:37.138219Z",
     "iopub.status.busy": "2022-02-27T15:27:37.137295Z",
     "iopub.status.idle": "2022-02-27T15:27:37.410165Z",
     "shell.execute_reply": "2022-02-27T15:27:37.409543Z",
     "shell.execute_reply.started": "2022-02-27T15:26:02.404710Z"
    },
    "papermill": {
     "duration": 0.288535,
     "end_time": "2022-02-27T15:27:37.410326",
     "exception": false,
     "start_time": "2022-02-27T15:27:37.121791",
     "status": "completed"
    },
    "tags": []
   },
   "outputs": [],
   "source": [
    "from sklearn.model_selection import train_test_split\n",
    "# from cuml.model_selection import train_test_split\n",
    "x_train,x_test,y_train,y_test=train_test_split(x,y,test_size=0.1,random_state=42)"
   ]
  },
  {
   "cell_type": "code",
   "execution_count": 9,
   "id": "76c78794",
   "metadata": {
    "execution": {
     "iopub.execute_input": "2022-02-27T15:27:37.439654Z",
     "iopub.status.busy": "2022-02-27T15:27:37.438952Z",
     "iopub.status.idle": "2022-02-27T15:27:37.442022Z",
     "shell.execute_reply": "2022-02-27T15:27:37.442571Z",
     "shell.execute_reply.started": "2022-02-27T15:26:02.688146Z"
    },
    "papermill": {
     "duration": 0.020904,
     "end_time": "2022-02-27T15:27:37.442765",
     "exception": false,
     "start_time": "2022-02-27T15:27:37.421861",
     "status": "completed"
    },
    "tags": []
   },
   "outputs": [
    {
     "name": "stdout",
     "output_type": "stream",
     "text": [
      "(1314, 13)\n",
      "(146, 13)\n",
      "(1314, 1)\n",
      "(146, 1)\n"
     ]
    }
   ],
   "source": [
    "print(x_train.shape)\n",
    "print(x_test.shape)\n",
    "print(y_train.shape)\n",
    "print(y_test.shape)"
   ]
  },
  {
   "cell_type": "code",
   "execution_count": 10,
   "id": "926760c6",
   "metadata": {
    "execution": {
     "iopub.execute_input": "2022-02-27T15:27:37.473534Z",
     "iopub.status.busy": "2022-02-27T15:27:37.472880Z",
     "iopub.status.idle": "2022-02-27T15:27:43.374266Z",
     "shell.execute_reply": "2022-02-27T15:27:43.374677Z",
     "shell.execute_reply.started": "2022-02-27T15:26:02.700309Z"
    },
    "papermill": {
     "duration": 5.919724,
     "end_time": "2022-02-27T15:27:43.374912",
     "exception": false,
     "start_time": "2022-02-27T15:27:37.455188",
     "status": "completed"
    },
    "tags": []
   },
   "outputs": [
    {
     "name": "stdout",
     "output_type": "stream",
     "text": [
      "Algorithm: svd\n",
      "MSE: 18273279606.78335\n",
      "R2 Score: 1.0\n",
      "MAE: 91834.78710827547\n",
      "Algorithm: eig\n",
      "MSE: 18273279606.783325\n",
      "R2 Score: 1.0\n",
      "MAE: 91834.7871082754\n",
      "Algorithm: qr\n",
      "MSE: 18273279606.783356\n",
      "R2 Score: 1.0\n",
      "MAE: 91834.78710827547\n",
      "Algorithm: svd-qr\n",
      "MSE: 9141000639.117205\n",
      "R2 Score: 0.0015542173682294713\n",
      "MAE: 66007.99886308658\n",
      "Algorithm: svd-jacobi\n",
      "MSE: 9141000639.117205\n",
      "R2 Score: 0.0015542173682294713\n",
      "MAE: 66007.99886308658\n"
     ]
    }
   ],
   "source": [
    "import cuml\n",
    "from cuml import LinearRegression\n",
    "from cuml.metrics import accuracy_score\n",
    "algorithm = ['svd', 'eig', 'qr', 'svd-qr', 'svd-jacobi']\n",
    "for i in algorithm:\n",
    "    print(\"Algorithm:\",i)\n",
    "    lr = LinearRegression(fit_intercept = True, normalize = False, algorithm = i)\n",
    "    reg = lr.fit(x_train,y_train)\n",
    "    preds = lr.predict(x_test)\n",
    "#     acc=accuracy_score(y_test, preds)\n",
    "#     print(acc)\n",
    "    mse=cuml.metrics.regression.mean_squared_error(y_test,preds)\n",
    "    r2=cuml.metrics.regression.r2_score(y_test,preds)\n",
    "    mae=cuml.metrics.regression.mean_absolute_error(y_test,preds)\n",
    "    print(\"MSE:\",mse)\n",
    "    print(\"R2 Score:\",r2)\n",
    "    print(\"MAE:\",mae)"
   ]
  },
  {
   "cell_type": "code",
   "execution_count": null,
   "id": "6f7d3845",
   "metadata": {
    "papermill": {
     "duration": 0.025036,
     "end_time": "2022-02-27T15:27:43.420380",
     "exception": false,
     "start_time": "2022-02-27T15:27:43.395344",
     "status": "completed"
    },
    "tags": []
   },
   "outputs": [],
   "source": []
  }
 ],
 "metadata": {
  "kernelspec": {
   "display_name": "Python 3",
   "language": "python",
   "name": "python3"
  },
  "language_info": {
   "codemirror_mode": {
    "name": "ipython",
    "version": 3
   },
   "file_extension": ".py",
   "mimetype": "text/x-python",
   "name": "python",
   "nbconvert_exporter": "python",
   "pygments_lexer": "ipython3",
   "version": "3.7.12"
  },
  "papermill": {
   "default_parameters": {},
   "duration": 22.503644,
   "end_time": "2022-02-27T15:27:44.753153",
   "environment_variables": {},
   "exception": null,
   "input_path": "__notebook__.ipynb",
   "output_path": "__notebook__.ipynb",
   "parameters": {},
   "start_time": "2022-02-27T15:27:22.249509",
   "version": "2.3.3"
  }
 },
 "nbformat": 4,
 "nbformat_minor": 5
}
